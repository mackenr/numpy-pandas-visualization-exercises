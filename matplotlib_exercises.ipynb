{
 "cells": [
  {
   "cell_type": "markdown",
   "metadata": {},
   "source": [
    "Exercises\n",
    "\n",
    "Using the repo setup directions, setup a new local and remote repository named numpy-pandas-visualization-exercises. The local version of your repo should live inside of ~/codeup-data-science. This repo should be named numpy-pandas-visualization-exercises\n",
    "\n",
    "Do your work for this exercise in a jupyter notebook named matplotlib_exercises.\n",
    "\n",
    "1. Use matplotlib to plot the following equation:\n",
    "$$ y= x^2-x+2 $$"
   ]
  },
  {
   "cell_type": "code",
   "execution_count": null,
   "metadata": {},
   "outputs": [],
   "source": []
  }
 ],
 "metadata": {
  "interpreter": {
   "hash": "baeed1872d3d647b7b05b5c9267c91e927a047aa38b5942b2070263e11f98290"
  },
  "kernelspec": {
   "display_name": "Python 3.9.12 ('base')",
   "language": "python",
   "name": "python3"
  },
  "language_info": {
   "name": "python",
   "version": "3.9.12"
  },
  "orig_nbformat": 4
 },
 "nbformat": 4,
 "nbformat_minor": 2
}
