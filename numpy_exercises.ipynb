{
 "cells": [
  {
   "cell_type": "code",
   "execution_count": 48,
   "metadata": {},
   "outputs": [],
   "source": [
    "import numpy as np;\n",
    "\n",
    "a = np.array([4, 10, 12, 23, -2, -1, 0, 0, 0, -6, 3, -7])\n",
    "\n"
   ]
  },
  {
   "cell_type": "code",
   "execution_count": 49,
   "metadata": {},
   "outputs": [
    {
     "name": "stdout",
     "output_type": "stream",
     "text": [
      "There are: 4  negative numbers in a which are: [-2 -1 -6 -7]\n"
     ]
    }
   ],
   "source": [
    "\n",
    "a_negs=a[a<0]\n",
    "print(f'There are: {len(a_negs)}  negative numbers in a which are: {a_negs}')\n",
    "\n"
   ]
  },
  {
   "cell_type": "code",
   "execution_count": 50,
   "metadata": {},
   "outputs": [
    {
     "name": "stdout",
     "output_type": "stream",
     "text": [
      "There are: 5  positive numbers in a which are: [ 4 10 12 23  3]\n"
     ]
    }
   ],
   "source": [
    "\n",
    "a_pos=a[a>0]\n",
    "print(f'There are: {len(a_pos)}  positive numbers in a which are: {a_pos}')\n"
   ]
  },
  {
   "cell_type": "code",
   "execution_count": 51,
   "metadata": {},
   "outputs": [
    {
     "name": "stdout",
     "output_type": "stream",
     "text": [
      "There are: 3  positive numbers in a which are: [ 4 10 12]\n"
     ]
    }
   ],
   "source": [
    "\n",
    "\n",
    "# a_pos_even=a_pos[a_pos%2==0]\n",
    "# print(f'There are: {len(a_pos_even)}  positive numbers in a which are: {a_pos_even}')\n",
    "#how do we chain booleans?\n",
    "#like so\n",
    "a_pos_even=a[(a%2==0)&(a>0)]\n",
    "print(f'There are: {len(a_pos_even)}  positive numbers in a which are: {a_pos_even}')\n"
   ]
  },
  {
   "cell_type": "code",
   "execution_count": 52,
   "metadata": {},
   "outputs": [
    {
     "name": "stdout",
     "output_type": "stream",
     "text": [
      "There are: 10  positive numbers in a which are: [ 7 13 15 26  1  2  3  3  3  6]\n"
     ]
    }
   ],
   "source": [
    "\n",
    "\n",
    "\n",
    "a_plus_3=a+3\n",
    "a_plus_3_pos=a_plus_3[a_plus_3>0]\n",
    "print(f'There are: {len(a_plus_3_pos)}  positive numbers in a which are: {a_plus_3_pos}')\n"
   ]
  },
  {
   "cell_type": "code",
   "execution_count": 53,
   "metadata": {},
   "outputs": [
    {
     "name": "stdout",
     "output_type": "stream",
     "text": [
      "[ 16 100 144 529   4   1   0   0   0  36   9  49] mean: 74.00  std: 144.02\n"
     ]
    }
   ],
   "source": [
    "\n",
    "a_squared=a**2\n",
    "print(f'{a_squared} mean: {a_squared.mean():.2f}  std: {np.std(a_squared):.2f}')\n"
   ]
  },
  {
   "cell_type": "code",
   "execution_count": 54,
   "metadata": {},
   "outputs": [
    {
     "name": "stdout",
     "output_type": "stream",
     "text": [
      "a centered: [  1.   7.   9.  20.  -5.  -4.  -3.  -3.  -3.  -9.   0. -10.]\n"
     ]
    }
   ],
   "source": [
    "\n",
    "a_centered=a-a.mean()\n",
    "print(f'a centered: {a_centered}')\n"
   ]
  },
  {
   "cell_type": "code",
   "execution_count": 55,
   "metadata": {},
   "outputs": [
    {
     "name": "stdout",
     "output_type": "stream",
     "text": [
      "z-score for a is: [ 0.12  0.87  1.12  2.48 -0.62 -0.5  -0.37 -0.37 -0.37 -1.12  0.   -1.24]\n"
     ]
    }
   ],
   "source": [
    "\n",
    "a_zscore=(a-a.mean())/np.std(a)\n",
    "a_zscore=a_zscore.round(2)\n",
    "print(f'z-score for a is: {a_zscore}')\n",
    "\n",
    "\n"
   ]
  },
  {
   "cell_type": "code",
   "execution_count": 56,
   "metadata": {},
   "outputs": [
    {
     "name": "stdout",
     "output_type": "stream",
     "text": [
      "This is sum_of_a: 55\n"
     ]
    }
   ],
   "source": [
    "import numpy as np\n",
    "# Life w/o numpy to life with numpy\n",
    "\n",
    "## Setup 1\n",
    "a = [1, 2, 3, 4, 5, 6, 7, 8, 9, 10]\n",
    "\n",
    "# Use python's built in functionality/operators to determine the following:\n",
    "# Exercise 1 - Make a variable called sum_of_a to hold the sum of all the numbers in above list\n",
    "sum_of_a=sum(a)\n",
    "print(f'This is sum_of_a: {sum_of_a}')\n"
   ]
  },
  {
   "cell_type": "code",
   "execution_count": 57,
   "metadata": {},
   "outputs": [
    {
     "name": "stdout",
     "output_type": "stream",
     "text": [
      "This is min_of_a: 1\n"
     ]
    }
   ],
   "source": [
    "# Exercise 2 - Make a variable named min_of_a to hold the minimum of all the numbers in the above list\n",
    "min_of_a=min(a)\n",
    "print(f'This is min_of_a: {min_of_a}')\n"
   ]
  },
  {
   "cell_type": "code",
   "execution_count": 58,
   "metadata": {},
   "outputs": [
    {
     "name": "stdout",
     "output_type": "stream",
     "text": [
      "This is max_of_a: 10\n"
     ]
    }
   ],
   "source": [
    "# Exercise 3 - Make a variable named max_of_a to hold the max number of all the numbers in the above list\n",
    "max_of_a=max(a)\n",
    "print(f'This is max_of_a: {max_of_a}')\n"
   ]
  },
  {
   "cell_type": "code",
   "execution_count": 59,
   "metadata": {},
   "outputs": [
    {
     "name": "stdout",
     "output_type": "stream",
     "text": [
      "This is mean_of_a: 5.5\n"
     ]
    }
   ],
   "source": [
    "# Exercise 4 - Make a variable named mean_of_a to hold the average of all the numbers in the above list\n",
    "mean_of_a=sum_of_a/len(a)\n",
    "print(f'This is mean_of_a: {mean_of_a}')\n"
   ]
  },
  {
   "cell_type": "code",
   "execution_count": 60,
   "metadata": {},
   "outputs": [
    {
     "name": "stdout",
     "output_type": "stream",
     "text": [
      "This is product_of_a: 3,628,800.00\n"
     ]
    }
   ],
   "source": [
    "# Exercise 5 - Make a variable named product_of_a to hold the product of multiplying all the numbers in the above list together\n",
    "product_of_a= 1\n",
    "for i in a:\n",
    "    product_of_a*=i\n",
    "print(f'This is product_of_a: {product_of_a:,.2f}')\n"
   ]
  },
  {
   "cell_type": "code",
   "execution_count": 61,
   "metadata": {},
   "outputs": [
    {
     "name": "stdout",
     "output_type": "stream",
     "text": [
      "This is squares_of_a: 100\n"
     ]
    }
   ],
   "source": [
    "# Exercise 6 - Make a variable named squares_of_a. It should hold each number in a squared like [1, 4, 9, 16, 25...]\n",
    "squares_of_a=[]\n",
    "for i in a:\n",
    "    squares_of_a=i**2\n",
    "print(f'This is squares_of_a: {squares_of_a}')\n"
   ]
  },
  {
   "cell_type": "code",
   "execution_count": 62,
   "metadata": {},
   "outputs": [
    {
     "name": "stdout",
     "output_type": "stream",
     "text": [
      "This is odds_in_a: [1, 3, 5, 7, 9]\n"
     ]
    }
   ],
   "source": [
    "# Exercise 7 - Make a variable named odds_in_a. It should hold only the odd numbers\n",
    "odds_in_a=[]\n",
    "for i in a:\n",
    "    if i %2 !=0:\n",
    "        odds_in_a.append(i)\n",
    "print(f'This is odds_in_a: {odds_in_a}')\n"
   ]
  },
  {
   "cell_type": "code",
   "execution_count": 63,
   "metadata": {},
   "outputs": [
    {
     "name": "stdout",
     "output_type": "stream",
     "text": [
      "This is evens_in_a: []\n"
     ]
    }
   ],
   "source": [
    "# Exercise 8 - Make a variable named evens_in_a. It should hold only the evens.\n",
    "evens_in_a=[]\n",
    "for i in a:\n",
    "    if i %2 ==0:\n",
    "        odds_in_a.append(i)\n",
    "print(f'This is evens_in_a: {evens_in_a}')\n"
   ]
  },
  {
   "cell_type": "code",
   "execution_count": 64,
   "metadata": {},
   "outputs": [],
   "source": [
    "## What about life in two dimensions? A list of lists is matrix, a table, a spreadsheet, a chessboard\n",
    "# print(f'This is A: {A}')\n",
    "## Setup 2: Consider what it would take to find the sum, min, max, average, sum, product, and list of squares for this list of two lists.\n",
    "b = [\n",
    "    [3, 4, 5],\n",
    "    [6, 7, 8]\n",
    "]\n",
    "\n",
    "b=np.array(b)\n",
    "\n"
   ]
  },
  {
   "cell_type": "code",
   "execution_count": 65,
   "metadata": {},
   "outputs": [
    {
     "name": "stdout",
     "output_type": "stream",
     "text": [
      "33\n",
      "33\n"
     ]
    }
   ],
   "source": [
    "# Exercise 1 - refactor the following to use numpy. Use sum_of_b as the variable. **Hint, you'll first need to make sure that the \"b\" variable is a numpy array**\n",
    "sum_of_b = 0\n",
    "for row in b:\n",
    "    sum_of_b += sum(row)\n",
    "  \n",
    "print(sum_of_b)\n",
    "sum_of_b=b.sum()\n",
    "print(sum_of_b)\n"
   ]
  },
  {
   "cell_type": "code",
   "execution_count": 66,
   "metadata": {},
   "outputs": [
    {
     "name": "stdout",
     "output_type": "stream",
     "text": [
      "3\n",
      "3\n"
     ]
    }
   ],
   "source": [
    "# Exercise 2 - refactor the following to use numpy. \n",
    "min_of_b = min(b[0]) if min(b[0]) <= min(b[1]) else min(b[1])  \n",
    "print(min_of_b)\n",
    "min_of_b=b.min()\n",
    "print(min_of_b)\n"
   ]
  },
  {
   "cell_type": "code",
   "execution_count": 67,
   "metadata": {},
   "outputs": [
    {
     "name": "stdout",
     "output_type": "stream",
     "text": [
      "8\n",
      "8\n"
     ]
    }
   ],
   "source": [
    "# Exercise 3 - refactor the following maximum calculation to find the answer with numpy.\n",
    "max_of_b = max(b[0]) if max(b[0]) >= max(b[1]) else max(b[1])\n",
    "print(max_of_b)\n",
    "max_of_b=b.max()\n",
    "print(max_of_b)\n",
    "\n"
   ]
  },
  {
   "cell_type": "code",
   "execution_count": 68,
   "metadata": {},
   "outputs": [
    {
     "name": "stdout",
     "output_type": "stream",
     "text": [
      "5.5\n",
      "5.5\n"
     ]
    }
   ],
   "source": [
    "# Exercise 4 - refactor the following using numpy to find the mean of b\n",
    "mean_of_b = (sum(b[0]) + sum(b[1])) / (len(b[0]) + len(b[1]))\n",
    "print(mean_of_b)\n",
    "mean_of_b=b.mean()\n",
    "print(mean_of_b)\n"
   ]
  },
  {
   "cell_type": "code",
   "execution_count": 69,
   "metadata": {},
   "outputs": [
    {
     "name": "stdout",
     "output_type": "stream",
     "text": [
      "3\n",
      "3\n"
     ]
    }
   ],
   "source": [
    "# Exercise 5 - refactor the following to use numpy for calculating the product of all numbers multiplied together.\n",
    "product_of_b = 1\n",
    "for row in b:\n",
    "    for number in row:\n",
    "        product_of_b *= number\n",
    "print(min_of_b)\n",
    "product_of_b=b.prod()\n",
    "print(min_of_b)\n"
   ]
  },
  {
   "cell_type": "code",
   "execution_count": 70,
   "metadata": {},
   "outputs": [
    {
     "name": "stdout",
     "output_type": "stream",
     "text": [
      "[9, 16, 25, 36, 49, 64]\n",
      "[[ 9 16 25]\n",
      " [36 49 64]]\n"
     ]
    }
   ],
   "source": [
    "# Exercise 6 - refactor the following to use numpy to find the list of squares \n",
    "squares_of_b = []\n",
    "for row in b:\n",
    "    for number in row:\n",
    "        squares_of_b.append(number**2)\n",
    "print(squares_of_b)\n",
    "squares_of_b=b**2\n",
    "print(squares_of_b)\n",
    "\n"
   ]
  },
  {
   "cell_type": "code",
   "execution_count": 71,
   "metadata": {},
   "outputs": [
    {
     "name": "stdout",
     "output_type": "stream",
     "text": [
      "[3, 5, 7]\n",
      "[3 5 7]\n"
     ]
    }
   ],
   "source": [
    "# Exercise 7 - refactor using numpy to determine the odds_in_b\n",
    "odds_in_b = []\n",
    "for row in b:\n",
    "    for number in row:\n",
    "        if(number % 2 != 0):\n",
    "            odds_in_b.append(number)\n",
    "\n",
    "print(odds_in_b)\n",
    "odds_in_b=b[b%2!=0]\n",
    "print(odds_in_b)\n"
   ]
  },
  {
   "cell_type": "code",
   "execution_count": 72,
   "metadata": {},
   "outputs": [
    {
     "name": "stdout",
     "output_type": "stream",
     "text": [
      "[4, 6, 8]\n",
      "[4 6 8]\n"
     ]
    }
   ],
   "source": [
    "# Exercise 8 - refactor the following to use numpy to filter only the even numbers\n",
    "evens_in_b = []\n",
    "for row in b:\n",
    "    for number in row:\n",
    "        if(number % 2 == 0):\n",
    "            evens_in_b.append(number)\n",
    "\n",
    "print(evens_in_b)\n",
    "evens_in_b=b[b%2==0]\n",
    "print(evens_in_b)\n"
   ]
  },
  {
   "cell_type": "code",
   "execution_count": 73,
   "metadata": {},
   "outputs": [
    {
     "name": "stdout",
     "output_type": "stream",
     "text": [
      "Shape (2, 3)\n"
     ]
    }
   ],
   "source": [
    "# Exercise 9 - print out the shape of the array b.\n",
    "shape_of_b=b.shape\n",
    "print('Shape',(shape_of_b))\n"
   ]
  },
  {
   "cell_type": "code",
   "execution_count": 74,
   "metadata": {},
   "outputs": [
    {
     "name": "stdout",
     "output_type": "stream",
     "text": [
      "[[3 6]\n",
      " [4 7]\n",
      " [5 8]]\n"
     ]
    }
   ],
   "source": [
    "# Exercise 10 - transpose the array b.\n",
    "tpose_of_b=b.T\n",
    "print(tpose_of_b)\n"
   ]
  },
  {
   "cell_type": "code",
   "execution_count": 75,
   "metadata": {},
   "outputs": [
    {
     "name": "stdout",
     "output_type": "stream",
     "text": [
      "reshape_b_1by6 [[3 4 5 6 7 8]]\n"
     ]
    }
   ],
   "source": [
    "# Exercise 11 - reshape the array b to be a single list of 6 numbers. (1 x 6)\n",
    "reshape_b_1by6=b.reshape(1,6)\n",
    "print('reshape_b_1by6',reshape_b_1by6)\n"
   ]
  },
  {
   "cell_type": "code",
   "execution_count": 76,
   "metadata": {},
   "outputs": [
    {
     "name": "stdout",
     "output_type": "stream",
     "text": [
      "reshape_b_6by1 [[3]\n",
      " [4]\n",
      " [5]\n",
      " [6]\n",
      " [7]\n",
      " [8]]\n"
     ]
    }
   ],
   "source": [
    "# Exercise 12 - reshape the array b to be a list of 6 lists, each containing only 1 number (6 x 1)\n",
    "reshape_b_6by1=reshape_b_1by6.T\n",
    "print('reshape_b_6by1',reshape_b_6by1)\n"
   ]
  },
  {
   "cell_type": "code",
   "execution_count": 77,
   "metadata": {},
   "outputs": [
    {
     "name": "stdout",
     "output_type": "stream",
     "text": [
      "Find the min, max, sum, and product of c 1 9 45 362880\n"
     ]
    }
   ],
   "source": [
    "## Setup 3\n",
    "c = [\n",
    "    [1, 2, 3],\n",
    "    [4, 5, 6],\n",
    "    [7, 8, 9]\n",
    "]\n",
    "c=np.array(c)\n",
    "# HINT, you'll first need to make sure that the \"c\" variable is a numpy array prior to using numpy array methods.\n",
    "# Exercise 1 - Find the min, max, sum, and product of c.\n",
    "print('Find the min, max, sum, and product of c',c.min(),c.max(),c.sum(),c.prod())\n",
    "\n"
   ]
  },
  {
   "cell_type": "code",
   "execution_count": 78,
   "metadata": {},
   "outputs": [
    {
     "name": "stdout",
     "output_type": "stream",
     "text": [
      "std_c 2.581988897471611\n"
     ]
    }
   ],
   "source": [
    "# Exercise 2 - Determine the standard deviation of c.\n",
    "std_c=np.std(c)\n",
    "print('std_c',std_c)\n"
   ]
  },
  {
   "cell_type": "code",
   "execution_count": 79,
   "metadata": {},
   "outputs": [
    {
     "name": "stdout",
     "output_type": "stream",
     "text": [
      "var_c 6.666666666666666\n"
     ]
    }
   ],
   "source": [
    "# Exercise 3 - Determine the variance of c.\n",
    "var_c=std_c**2\n",
    "print('var_c',var_c)\n"
   ]
  },
  {
   "cell_type": "code",
   "execution_count": 80,
   "metadata": {},
   "outputs": [
    {
     "name": "stdout",
     "output_type": "stream",
     "text": [
      "c.shape (3, 3)\n"
     ]
    }
   ],
   "source": [
    "# Exercise 4 - Print out the shape of the array c\n",
    "print('c.shape',c.shape)\n",
    "\n"
   ]
  },
  {
   "cell_type": "code",
   "execution_count": 81,
   "metadata": {},
   "outputs": [
    {
     "name": "stdout",
     "output_type": "stream",
     "text": [
      "c.T [[1 4 7]\n",
      " [2 5 8]\n",
      " [3 6 9]]\n"
     ]
    }
   ],
   "source": [
    "# Exercise 5 - Transpose c and print out transposed result.\n",
    "tpose_c=c.T\n",
    "print('c.T',tpose_c)\n",
    "\n"
   ]
  },
  {
   "cell_type": "code",
   "execution_count": 82,
   "metadata": {},
   "outputs": [
    {
     "name": "stdout",
     "output_type": "stream",
     "text": [
      "c_dot_c [[ 30  36  42]\n",
      " [ 66  81  96]\n",
      " [102 126 150]]\n"
     ]
    }
   ],
   "source": [
    "# Exercise 6 - Get the dot product of the array c with c. \n",
    "c_dot_c=np.dot(c,c)\n",
    "print('c_dot_c',c_dot_c)\n"
   ]
  },
  {
   "cell_type": "code",
   "execution_count": 83,
   "metadata": {},
   "outputs": [
    {
     "name": "stdout",
     "output_type": "stream",
     "text": [
      "sum c dot cT 261\n"
     ]
    }
   ],
   "source": [
    "\n",
    "# Exercise 7 - Write the code necessary to sum up the result of c times c transposed. Answer should be 261\n",
    "sum_c_by_cT=(c*c.T).sum()\n",
    "print('sum c dot cT',sum_c_by_cT)\n"
   ]
  },
  {
   "cell_type": "code",
   "execution_count": 84,
   "metadata": {},
   "outputs": [
    {
     "name": "stdout",
     "output_type": "stream",
     "text": [
      "ex8 131681894400\n"
     ]
    }
   ],
   "source": [
    "\n",
    "# Exercise 8 - Write the code necessary to determine the product of c times c transposed. Answer should be 131681894400.\n",
    "ex_8=c*c.T\n",
    "ex_8=np.prod(ex_8)\n",
    "print('ex8',ex_8)\n",
    "## Setup 4\n",
    "d = [\n",
    "    [90, 30, 45, 0, 120, 180],\n",
    "    [45, -90, -30, 270, 90, 0],\n",
    "    [60, 45, -45, 90, -45, 180]\n",
    "]\n",
    "d=np.array(d)\n"
   ]
  },
  {
   "cell_type": "code",
   "execution_count": 85,
   "metadata": {},
   "outputs": [
    {
     "name": "stdout",
     "output_type": "stream",
     "text": [
      "sin d [[ 0.894 -0.988  0.851  0.     0.581 -0.801]\n",
      " [ 0.851 -0.894  0.988 -0.176  0.894  0.   ]\n",
      " [-0.305  0.851 -0.851  0.894 -0.851 -0.801]]\n"
     ]
    }
   ],
   "source": [
    "\n",
    "# Exercise 1 - Find the sine of all the numbers in d\n",
    "sine_d=(np.sin(d)).round(3)\n",
    "print('sin d',sine_d)\n"
   ]
  },
  {
   "cell_type": "code",
   "execution_count": 86,
   "metadata": {},
   "outputs": [
    {
     "name": "stdout",
     "output_type": "stream",
     "text": [
      "sin d [[-0.448  0.154  0.525  1.     0.814 -0.598]\n",
      " [ 0.525 -0.448  0.154  0.984 -0.448  1.   ]\n",
      " [-0.952  0.525  0.525 -0.448  0.525 -0.598]]\n"
     ]
    }
   ],
   "source": [
    "\n",
    "# Exercise 2 - Find the cosine of all the numbers in d\n",
    "cos_d=(np.cos(d)).round(3)\n",
    "print('sin d',cos_d)\n"
   ]
  },
  {
   "cell_type": "code",
   "execution_count": 87,
   "metadata": {},
   "outputs": [
    {
     "name": "stdout",
     "output_type": "stream",
     "text": [
      "sin d [[-1.995 -6.405  1.62   0.     0.713  1.339]\n",
      " [ 1.62   1.995  6.405 -0.179 -1.995  0.   ]\n",
      " [ 0.32   1.62  -1.62  -1.995 -1.62   1.339]]\n"
     ]
    }
   ],
   "source": [
    "\n",
    "# Exercise 3 - Find the tangent of all the numbers in d\n",
    "tan_d=(np.tan(d)).round(3)\n",
    "print('sin d',tan_d)\n"
   ]
  },
  {
   "cell_type": "code",
   "execution_count": 88,
   "metadata": {},
   "outputs": [
    {
     "name": "stdout",
     "output_type": "stream",
     "text": [
      "neg_d [-90 -30 -45 -45]\n"
     ]
    }
   ],
   "source": [
    "\n",
    "# Exercise 4 - Find all the negative numbers in d\n",
    "neg_d=d[d<0]\n",
    "print('neg_d',neg_d)\n"
   ]
  },
  {
   "cell_type": "code",
   "execution_count": 89,
   "metadata": {},
   "outputs": [
    {
     "name": "stdout",
     "output_type": "stream",
     "text": [
      "pos d [ 90  30  45 120 180  45 270  90  60  45  90 180]\n"
     ]
    }
   ],
   "source": [
    "\n",
    "# Exercise 5 - Find all the positive numbers in d\n",
    "pos_d=d[d>0]\n",
    "print('pos d',pos_d)\n"
   ]
  },
  {
   "cell_type": "code",
   "execution_count": 90,
   "metadata": {},
   "outputs": [
    {
     "name": "stdout",
     "output_type": "stream",
     "text": [
      "unique [-90 -45 -30   0  30  45  60  90 120 180 270]\n"
     ]
    }
   ],
   "source": [
    "\n",
    "# Exercise 6 - Return an array of only the unique numbers in d.\n",
    "unique_d=np.unique(d)\n",
    "print('unique',unique_d)\n"
   ]
  },
  {
   "cell_type": "code",
   "execution_count": 91,
   "metadata": {},
   "outputs": [
    {
     "name": "stdout",
     "output_type": "stream",
     "text": [
      "count unique 11\n"
     ]
    }
   ],
   "source": [
    "\n",
    "# Exercise 7 - Determine how many unique numbers there are in d.\n",
    "count_unique_d=unique_d.size\n",
    "print('count unique',count_unique_d)\n"
   ]
  },
  {
   "cell_type": "code",
   "execution_count": 92,
   "metadata": {},
   "outputs": [
    {
     "name": "stdout",
     "output_type": "stream",
     "text": [
      "shape_d (3, 6)\n"
     ]
    }
   ],
   "source": [
    "\n",
    "# Exercise 8 - Print out the shape of d.\n",
    "shape_d=d.shape\n",
    "print('shape_d',shape_d)\n"
   ]
  },
  {
   "cell_type": "code",
   "execution_count": 93,
   "metadata": {},
   "outputs": [
    {
     "name": "stdout",
     "output_type": "stream",
     "text": [
      "shape_dT (6, 3)\n"
     ]
    }
   ],
   "source": [
    "\n",
    "# Exercise 9 - Transpose and then print out the shape of d.\n",
    "shape_dT=d.T.shape\n",
    "print('shape_dT',shape_dT)\n"
   ]
  },
  {
   "cell_type": "code",
   "execution_count": 94,
   "metadata": {},
   "outputs": [
    {
     "name": "stdout",
     "output_type": "stream",
     "text": [
      "reshapeD (9, 2)\n"
     ]
    }
   ],
   "source": [
    "\n",
    "# Exercise 10 - Reshape d into an array of 9 x 2\n",
    "reshapeD=d.reshape(9,2)\n",
    "print('reshapeD',reshapeD.shape)\n",
    "\n",
    "\n",
    "\n",
    "\n",
    "\n"
   ]
  }
 ],
 "metadata": {
  "interpreter": {
   "hash": "baeed1872d3d647b7b05b5c9267c91e927a047aa38b5942b2070263e11f98290"
  },
  "kernelspec": {
   "display_name": "Python 3.9.12 ('base')",
   "language": "python",
   "name": "python3"
  },
  "language_info": {
   "codemirror_mode": {
    "name": "ipython",
    "version": 3
   },
   "file_extension": ".py",
   "mimetype": "text/x-python",
   "name": "python",
   "nbconvert_exporter": "python",
   "pygments_lexer": "ipython3",
   "version": "3.9.12"
  },
  "orig_nbformat": 4
 },
 "nbformat": 4,
 "nbformat_minor": 2
}
