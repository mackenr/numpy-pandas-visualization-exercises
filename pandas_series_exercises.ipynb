{
 "cells": [
  {
   "cell_type": "code",
   "execution_count": 166,
   "metadata": {},
   "outputs": [],
   "source": [
    "import pandas as pd \n",
    "import numpy as np\n",
    "import matplotlib.pyplot as plt\n",
    "from matplotlib.ticker import (MultipleLocator,\n",
    "                               FormatStrFormatter,\n",
    "                               AutoMinorLocator)\n",
    "  \n",
    "\n",
    "\n",
    "\n"
   ]
  },
  {
   "cell_type": "markdown",
   "metadata": {},
   "source": [
    "## Exercises Part I\n",
    "\n",
    "Make a file named pandas_series.py or pandas_series.ipynb for the following exercises.\n",
    "\n",
    "Use pandas to create a Series named fruits from the following list:\n",
    "\n",
    "\n",
    "    [\"kiwi\", \"mango\", \"strawberry\", \"pineapple\", \"gala apple\", \"honeycrisp apple\", \"tomato\", \"watermelon\", \"honeydew\", \"kiwi\", \"kiwi\", \"kiwi\", \"mango\", \"blueberry\", \"blackberry\", \"gooseberry\", \"papaya\"]\n",
    "\n",
    "\n",
    "# Use Series attributes and methods to explore your fruits Series.\n",
    "\n"
   ]
  },
  {
   "cell_type": "markdown",
   "metadata": {},
   "source": [
    "Determine the number of elements in fruits.\n",
    "\n"
   ]
  },
  {
   "cell_type": "code",
   "execution_count": 167,
   "metadata": {},
   "outputs": [
    {
     "data": {
      "text/plain": [
       "17"
      ]
     },
     "execution_count": 167,
     "metadata": {},
     "output_type": "execute_result"
    }
   ],
   "source": [
    "fruits=pd.Series([\"kiwi\", \"mango\", \"strawberry\", \"pineapple\", \"gala apple\", \"honeycrisp apple\", \"tomato\", \"watermelon\", \"honeydew\", \"kiwi\", \"kiwi\", \"kiwi\", \"mango\", \"blueberry\", \"blackberry\", \"gooseberry\", \"papaya\"])\n",
    "fruits.count()"
   ]
  },
  {
   "cell_type": "markdown",
   "metadata": {},
   "source": [
    "Output only the index from fruits.\n",
    "\n"
   ]
  },
  {
   "cell_type": "code",
   "execution_count": 168,
   "metadata": {},
   "outputs": [
    {
     "name": "stdout",
     "output_type": "stream",
     "text": [
      "RangeIndex(start=0, stop=17, step=1)\n"
     ]
    }
   ],
   "source": [
    "print(fruits.index)"
   ]
  },
  {
   "cell_type": "markdown",
   "metadata": {},
   "source": [
    "Output only the values from fruits.\n",
    "\n"
   ]
  },
  {
   "cell_type": "code",
   "execution_count": 169,
   "metadata": {},
   "outputs": [
    {
     "name": "stdout",
     "output_type": "stream",
     "text": [
      "['kiwi' 'mango' 'strawberry' 'pineapple' 'gala apple' 'honeycrisp apple'\n",
      " 'tomato' 'watermelon' 'honeydew' 'kiwi' 'kiwi' 'kiwi' 'mango' 'blueberry'\n",
      " 'blackberry' 'gooseberry' 'papaya']\n"
     ]
    }
   ],
   "source": [
    "print(fruits.values)"
   ]
  },
  {
   "cell_type": "markdown",
   "metadata": {},
   "source": [
    "Confirm the data type of the values in fruits.\n",
    "\n"
   ]
  },
  {
   "cell_type": "code",
   "execution_count": 170,
   "metadata": {},
   "outputs": [
    {
     "name": "stdout",
     "output_type": "stream",
     "text": [
      "object\n"
     ]
    }
   ],
   "source": [
    "print(fruits.values.dtype)\n"
   ]
  },
  {
   "cell_type": "markdown",
   "metadata": {},
   "source": [
    "Output only the first five values from fruits. Output the last three values. Output two random values from fruits.\n",
    "\n"
   ]
  },
  {
   "cell_type": "code",
   "execution_count": 171,
   "metadata": {},
   "outputs": [
    {
     "data": {
      "text/plain": [
       "0          kiwi\n",
       "1         mango\n",
       "2    strawberry\n",
       "3     pineapple\n",
       "4    gala apple\n",
       "dtype: object"
      ]
     },
     "execution_count": 171,
     "metadata": {},
     "output_type": "execute_result"
    }
   ],
   "source": [
    "fruits.head()"
   ]
  },
  {
   "cell_type": "code",
   "execution_count": 172,
   "metadata": {},
   "outputs": [
    {
     "data": {
      "text/plain": [
       "14    blackberry\n",
       "15    gooseberry\n",
       "16        papaya\n",
       "dtype: object"
      ]
     },
     "execution_count": 172,
     "metadata": {},
     "output_type": "execute_result"
    }
   ],
   "source": [
    "fruits.tail(3)"
   ]
  },
  {
   "cell_type": "code",
   "execution_count": 173,
   "metadata": {},
   "outputs": [
    {
     "name": "stdout",
     "output_type": "stream",
     "text": [
      "two random values:\n",
      "honeydew\n",
      "gala apple\n"
     ]
    }
   ],
   "source": [
    "a=fruits[np.random.randint(0,17)]\n",
    "b=fruits[np.random.randint(0,17)]\n",
    "print(f'two random values:\\n{a}\\n{b}')"
   ]
  },
  {
   "cell_type": "markdown",
   "metadata": {},
   "source": [
    "Run the .describe() on fruits to see what information it returns when called on a Series with string values.\n",
    "\n"
   ]
  },
  {
   "cell_type": "code",
   "execution_count": 174,
   "metadata": {},
   "outputs": [
    {
     "data": {
      "text/plain": [
       "count       17\n",
       "unique      13\n",
       "top       kiwi\n",
       "freq         4\n",
       "dtype: object"
      ]
     },
     "execution_count": 174,
     "metadata": {},
     "output_type": "execute_result"
    }
   ],
   "source": [
    "fruits.describe()"
   ]
  },
  {
   "cell_type": "markdown",
   "metadata": {},
   "source": [
    "Run the code necessary to produce only the unique string values from fruits.\n",
    "\n"
   ]
  },
  {
   "cell_type": "code",
   "execution_count": 175,
   "metadata": {},
   "outputs": [
    {
     "name": "stdout",
     "output_type": "stream",
     "text": [
      "['kiwi' 'mango' 'strawberry' 'pineapple' 'gala apple' 'honeycrisp apple'\n",
      " 'tomato' 'watermelon' 'honeydew' 'blueberry' 'blackberry' 'gooseberry'\n",
      " 'papaya']\n"
     ]
    }
   ],
   "source": [
    "unique_fruits=fruits.unique()\n",
    "print(unique_fruits)"
   ]
  },
  {
   "cell_type": "markdown",
   "metadata": {},
   "source": [
    "Determine how many times each unique string value occurs in fruits.\n",
    "\n"
   ]
  },
  {
   "cell_type": "code",
   "execution_count": 176,
   "metadata": {},
   "outputs": [
    {
     "name": "stdout",
     "output_type": "stream",
     "text": [
      "kiwi                4\n",
      "mango               2\n",
      "strawberry          1\n",
      "pineapple           1\n",
      "gala apple          1\n",
      "honeycrisp apple    1\n",
      "tomato              1\n",
      "watermelon          1\n",
      "honeydew            1\n",
      "blueberry           1\n",
      "blackberry          1\n",
      "gooseberry          1\n",
      "papaya              1\n",
      "dtype: int64\n"
     ]
    }
   ],
   "source": [
    "uniquecounts=fruits.value_counts()\n",
    "print(uniquecounts)"
   ]
  },
  {
   "cell_type": "markdown",
   "metadata": {},
   "source": [
    "Determine the string value that occurs most frequently in fruits.\n",
    "\n"
   ]
  },
  {
   "cell_type": "code",
   "execution_count": 177,
   "metadata": {},
   "outputs": [
    {
     "name": "stdout",
     "output_type": "stream",
     "text": [
      "kiwi\n"
     ]
    }
   ],
   "source": [
    "mostcommon=fruits[fruits.value_counts().argmax()]\n",
    "print(mostcommon)\n",
    "\n"
   ]
  },
  {
   "cell_type": "markdown",
   "metadata": {},
   "source": [
    "Determine the string value that occurs least frequently in fruits.\n",
    "\n"
   ]
  },
  {
   "cell_type": "code",
   "execution_count": 178,
   "metadata": {},
   "outputs": [
    {
     "name": "stdout",
     "output_type": "stream",
     "text": [
      "1\n",
      "strawberry          1\n",
      "pineapple           1\n",
      "gala apple          1\n",
      "honeycrisp apple    1\n",
      "tomato              1\n",
      "watermelon          1\n",
      "honeydew            1\n",
      "blueberry           1\n",
      "blackberry          1\n",
      "gooseberry          1\n",
      "papaya              1\n",
      "dtype: int64\n"
     ]
    }
   ],
   "source": [
    "minstring=fruits.value_counts().min()\n",
    "print(minstring)\n",
    "print(uniquecounts[uniquecounts.values==minstring])\n"
   ]
  },
  {
   "cell_type": "markdown",
   "metadata": {},
   "source": [
    "# Indexing and Subsetting\n",
    "\n",
    "This is where the pandas index shines; we can select subsets of our data using index labels, index position, or boolean sequences (list, array, Series).\n",
    "\n",
    "I can also pass a sequence of boolean values to the indexing operator, []; that sequence could be a list or array, but it can also be another pandas Series if the index of the boolean Series matches the original Series.\n",
    "\n",
    "\n",
    "numbers_series\n",
    "\n",
    "0    100\n",
    "1     43\n",
    "2     26\n",
    "3     17\n",
    "4     17\n",
    "Name: Numbers, dtype: int64\n",
    "\n",
    "# I can see that my condition is being met by the values at index 0 and index 1.\n",
    "\n",
    "bools = numbers_series > 40\n",
    "bools\n",
    "\n",
    "0     True\n",
    "1     True\n",
    "2    False\n",
    "3    False\n",
    "4    False\n",
    "Name: Numbers, dtype: bool\n",
    "\n",
    "# I pass my boolean mask to the original Series to return the values that meet the condition.\n",
    "\n",
    "numbers_series[bools]\n",
    "\n",
    "0    100\n",
    "1     43\n",
    "Name: Numbers, dtype: int64\n",
    "\n",
    "# I can simply pass my conditional expression into the indexing operator, too.\n",
    "\n",
    "numbers_series[numbers_series > 40]\n",
    "\n",
    "0    100\n",
    "1     43\n",
    "Name: Numbers, dtype: int64\n",
    "\n",
    "# We can create compound logical statements to narrow/expand our subsetting options \n",
    "# Wrap parenthese around each comparison\n",
    "# The pipe | character is the OR\n",
    "\n",
    "x = pd.Series([1, 2, 3, 4, 5, 6, 7, 8, 9, 10])\n",
    "\n",
    "# Find the numbers that are even or greater than 7\n",
    "x[(x % 2 == 0) | (x > 7)]\n",
    "\n",
    "1     2\n",
    "3     4\n",
    "5     6\n",
    "7     8\n",
    "8     9\n",
    "9    10\n",
    "dtype: int64\n",
    "\n",
    "# Alternative syntax without the parentheses\n",
    "is_even = x % 2 == 0\n",
    "greater_than_seven = x > 7\n",
    "\n",
    "x[is_even & greater_than_seven]\n",
    "\n",
    "7     8\n",
    "9    10\n",
    "dtype: int64\n",
    "\n",
    "# Find the numbers that are even AND greater than 7\n",
    "x[(x % 2 == 0) & (x > 7)]\n",
    "\n",
    "7     8\n",
    "9    10\n",
    "dtype: int64\n",
    "\n",
    "# Alternative syntax without the parentheses\n",
    "is_even = x % 2 == 0\n",
    "greater_than_seven = x > 7\n",
    "x[is_even & greater_than_seven]\n",
    "\n",
    "7     8\n",
    "9    10\n",
    "dtype: int64\n",
    "More Series Attributes\n",
    "\n",
    ".str\n",
    "\n",
    "In addition to vectorized arithmetic operations, pandas also provides us with a way to vectorize string manipulation. Once we access the .str attribute, we can apply a string method to each string value in a Series. Performing string manipulation like this does not mutate my original Series; I have to assign my manipulation to a variable if I want to keep it.\n",
    "\n",
    "For example, we can call the .lower method, which will convert each string value in the string_series to lowercase.\n",
    "\n",
    "\n",
    "string_series = pd.Series(['Hello', 'CodeuP', 'StUDenTs'])\n",
    "string_series\n",
    "\n",
    "0       Hello\n",
    "1      CodeuP\n",
    "2    StUDenTs\n",
    "dtype: object\n",
    "\n",
    "string_series.str.lower()\n",
    "\n",
    "0       hello\n",
    "1      codeup\n",
    "2    students\n",
    "dtype: object\n",
    "\n",
    "string_series.str.replace('e', '_')\n",
    "\n",
    "0       H_llo\n",
    "1      Cod_uP\n",
    "2    StUD_nTs\n",
    "dtype: object\n",
    "\n",
    "# Since each method returns a Series, I can use method chaining like this.\n",
    "\n",
    "string_series.str.lower().str.replace('e', '_')\n",
    "\n",
    "0       h_llo\n",
    "1      cod_up\n",
    "2    stud_nts\n",
    "dtype: object\n",
    "\n",
    "# I can even use method chaining and indexing!\n",
    "\n",
    "string_series[string_series.str.lower().str.startswith('h')]\n",
    "\n",
    "0    Hello\n",
    "dtype: object\n",
    "\n",
    "# Notice my original string_series is not mutated. \n",
    "\n",
    "string_series\n",
    "\n",
    "0       Hello\n",
    "1      CodeuP\n",
    "2    StUDenTs\n",
    "dtype: object\n",
    "More Series Methods\n",
    "\n",
    ".any, .all\n",
    "\n",
    "We can use the .any method to check if any value in the series is True, and .all, to check if every value in a Series is True. Both methods return a boolean value denoting whether the condition is met.\n",
    "\n",
    "For example, we could check to see if there are any negative values in a Series like this:\n",
    "\n",
    "\n",
    "(numbers_series < 0).any()\n",
    "\n",
    "False\n",
    "\n",
    "(numbers_series < 0).all()\n",
    "\n",
    "False\n",
    "We could check if all the numbers are positive like this:\n",
    "\n",
    "\n",
    "(numbers_series > 0).any()\n",
    "\n",
    "True\n",
    "\n",
    "(numbers_series > 0).all()\n",
    "\n",
    "True\n",
    ".isin\n",
    "\n",
    "The .isin method can be used to tell whether each element in a Series matches an element in a passed sequence of values. For example, if we have a Series of letters, we could use .isin to tell whether each letter is a vowel.\n",
    "\n",
    "\n",
    "# Create a list of vowels.\n",
    "\n",
    "vowels = list('aeiou')\n",
    "vowels\n",
    "\n",
    "['a', 'e', 'i', 'o', 'u']\n",
    "\n",
    "# Create a list of letters.\n",
    "\n",
    "letters = list('abcdefghijk')\n",
    "letters\n",
    "\n",
    "['a', 'b', 'c', 'd', 'e', 'f', 'g', 'h', 'i', 'j', 'k']\n",
    "\n",
    "# Construct a pandas Series from my list of letters.\n",
    "\n",
    "letters_series = pd.Series(letters)\n",
    "letters_series\n",
    "\n",
    "0     a\n",
    "1     b\n",
    "2     c\n",
    "3     d\n",
    "4     e\n",
    "5     f\n",
    "6     g\n",
    "7     h\n",
    "8     i\n",
    "9     j\n",
    "10    k\n",
    "dtype: object\n",
    "\n",
    "# Use .isin to check if each element in letters_series matches an element in my list of vowels.\n",
    "\n",
    "letters_series.isin(vowels)\n",
    "\n",
    "0      True\n",
    "1     False\n",
    "2     False\n",
    "3     False\n",
    "4      True\n",
    "5     False\n",
    "6     False\n",
    "7     False\n",
    "8      True\n",
    "9     False\n",
    "10    False\n",
    "dtype: bool\n",
    "\n",
    "# Use my Series of boolean values to return the values that meet my condition.\n",
    "\n",
    "letters_series[letters_series.isin(vowels)]\n",
    "\n",
    "0    a\n",
    "4    e\n",
    "8    i\n",
    "dtype: object\n",
    ".apply\n",
    "\n",
    "Sometimes there are more complicated operations that we want to perform, and we need to apply a function to each element in a Series. In this case, we can define a function that handles a single value and use the .apply method to apply the function to each element in a Series.\n",
    "\n",
    "\n",
    "def even_or_odd(n):\n",
    "    '''\n",
    "    A function that takes a number and returns a string indicating whether the passed number is even or odd.\n",
    "\n",
    "    >>> even_or_odd(3)\n",
    "    'odd'\n",
    "    >>> even_or_odd(2)\n",
    "    'even'\n",
    "    '''\n",
    "    if n % 2 == 0:\n",
    "        return 'even'\n",
    "    else:\n",
    "        return 'odd'\n",
    "\n",
    "numbers_series.apply(even_or_odd)\n",
    "\n",
    "0    even\n",
    "1     odd\n",
    "2    even\n",
    "3     odd\n",
    "4     odd\n",
    "Name: Numbers, dtype: object\n",
    "Here we define a function, even_or_odd, then reference that function when we call .apply. Notice that when we reference the even_or_odd function, we are not calling the function, rather, we are passing the even_or_odd function itself to the .apply method as an argument, which pandas will then call on every element of the Series.\n",
    "\n",
    "It is also very common to see lambda functions used along with .apply. We could re-write the above example with a lambda function like so:\n",
    "\n",
    "\n",
    "numbers_series.apply(lambda n: 'even' if n % 2 == 0 else 'odd')\n",
    "\n",
    "0    even\n",
    "1     odd\n",
    "2    even\n",
    "3     odd\n",
    "4     odd\n",
    "Name: Numbers, dtype: object\n",
    "\n",
    "\n"
   ]
  },
  {
   "cell_type": "markdown",
   "metadata": {},
   "source": [
    "## Exercises Part II\n",
    "\n"
   ]
  },
  {
   "cell_type": "markdown",
   "metadata": {},
   "source": [
    "Explore more attributes and methods while you continue to work with the fruits Series.\n",
    "\n"
   ]
  },
  {
   "cell_type": "code",
   "execution_count": null,
   "metadata": {},
   "outputs": [],
   "source": []
  },
  {
   "cell_type": "markdown",
   "metadata": {},
   "source": [
    "Capitalize all the string values in fruits.\n",
    "\n"
   ]
  },
  {
   "cell_type": "code",
   "execution_count": 179,
   "metadata": {},
   "outputs": [
    {
     "data": {
      "text/plain": [
       "0                 Kiwi\n",
       "1                Mango\n",
       "2           Strawberry\n",
       "3            Pineapple\n",
       "4           Gala apple\n",
       "5     Honeycrisp apple\n",
       "6               Tomato\n",
       "7           Watermelon\n",
       "8             Honeydew\n",
       "9                 Kiwi\n",
       "10                Kiwi\n",
       "11                Kiwi\n",
       "12               Mango\n",
       "13           Blueberry\n",
       "14          Blackberry\n",
       "15          Gooseberry\n",
       "16              Papaya\n",
       "dtype: object"
      ]
     },
     "execution_count": 179,
     "metadata": {},
     "output_type": "execute_result"
    }
   ],
   "source": [
    "fruits.str.capitalize()"
   ]
  },
  {
   "cell_type": "markdown",
   "metadata": {},
   "source": [
    "Count the letter \"a\" in all the string values (use string vectorization).\n",
    "\n"
   ]
  },
  {
   "cell_type": "code",
   "execution_count": 180,
   "metadata": {},
   "outputs": [
    {
     "data": {
      "text/plain": [
       "0     0\n",
       "1     1\n",
       "2     1\n",
       "3     1\n",
       "4     3\n",
       "5     1\n",
       "6     1\n",
       "7     1\n",
       "8     0\n",
       "9     0\n",
       "10    0\n",
       "11    0\n",
       "12    1\n",
       "13    0\n",
       "14    1\n",
       "15    0\n",
       "16    3\n",
       "dtype: int64"
      ]
     },
     "execution_count": 180,
     "metadata": {},
     "output_type": "execute_result"
    }
   ],
   "source": [
    "fruits.str.count('a')"
   ]
  },
  {
   "cell_type": "markdown",
   "metadata": {},
   "source": [
    "Output the number of vowels in each and every string value.\n",
    "\n"
   ]
  },
  {
   "cell_type": "code",
   "execution_count": 181,
   "metadata": {},
   "outputs": [
    {
     "data": {
      "text/plain": [
       "0     2\n",
       "1     2\n",
       "2     2\n",
       "3     4\n",
       "4     4\n",
       "5     5\n",
       "6     3\n",
       "7     4\n",
       "8     3\n",
       "9     2\n",
       "10    2\n",
       "11    2\n",
       "12    2\n",
       "13    3\n",
       "14    2\n",
       "15    4\n",
       "16    3\n",
       "dtype: int64"
      ]
     },
     "execution_count": 181,
     "metadata": {},
     "output_type": "execute_result"
    }
   ],
   "source": [
    "# fruits.str.count('a'|'e'|'i'|'o'|'u')\n",
    "vowels=['a','e','i','o','u']\n",
    "\n",
    "def countn(n):\n",
    "    str(n)\n",
    "    count=0\n",
    "    for v in vowels:\n",
    "        for i in n:\n",
    "            if i==v:\n",
    "                count+=1\n",
    "    return count\n",
    "    \n",
    "\n",
    "\n",
    "fruits.apply(countn)"
   ]
  },
  {
   "cell_type": "markdown",
   "metadata": {},
   "source": [
    "Write the code to get the longest string value from fruits.\n",
    "\n"
   ]
  },
  {
   "cell_type": "code",
   "execution_count": 182,
   "metadata": {},
   "outputs": [
    {
     "data": {
      "text/plain": [
       "'honeycrisp apple'"
      ]
     },
     "execution_count": 182,
     "metadata": {},
     "output_type": "execute_result"
    }
   ],
   "source": [
    "fruits[fruits.str.len().idxmax()]"
   ]
  },
  {
   "cell_type": "markdown",
   "metadata": {},
   "source": [
    "Write the code to get the string values with 5 or more letters in the name.\n",
    "\n"
   ]
  },
  {
   "cell_type": "code",
   "execution_count": 183,
   "metadata": {},
   "outputs": [
    {
     "data": {
      "text/plain": [
       "1                mango\n",
       "2           strawberry\n",
       "3            pineapple\n",
       "4           gala apple\n",
       "5     honeycrisp apple\n",
       "6               tomato\n",
       "7           watermelon\n",
       "8             honeydew\n",
       "12               mango\n",
       "13           blueberry\n",
       "14          blackberry\n",
       "15          gooseberry\n",
       "16              papaya\n",
       "dtype: object"
      ]
     },
     "execution_count": 183,
     "metadata": {},
     "output_type": "execute_result"
    }
   ],
   "source": [
    "fruits[fruits.str.len()>=5]"
   ]
  },
  {
   "cell_type": "markdown",
   "metadata": {},
   "source": [
    "Find the fruit(s) containing the letter \"o\" two or more times.\n",
    "\n"
   ]
  },
  {
   "cell_type": "code",
   "execution_count": 184,
   "metadata": {},
   "outputs": [
    {
     "data": {
      "text/plain": [
       "6         tomato\n",
       "15    gooseberry\n",
       "dtype: object"
      ]
     },
     "execution_count": 184,
     "metadata": {},
     "output_type": "execute_result"
    }
   ],
   "source": [
    "fruits[fruits.str.count('o')>=2]"
   ]
  },
  {
   "cell_type": "markdown",
   "metadata": {},
   "source": [
    "Write the code to get only the string values containing the substring \"berry\".\n",
    "\n"
   ]
  },
  {
   "cell_type": "code",
   "execution_count": 185,
   "metadata": {},
   "outputs": [
    {
     "data": {
      "text/plain": [
       "2     strawberry\n",
       "13     blueberry\n",
       "14    blackberry\n",
       "15    gooseberry\n",
       "dtype: object"
      ]
     },
     "execution_count": 185,
     "metadata": {},
     "output_type": "execute_result"
    }
   ],
   "source": [
    "fruits[fruits.str.contains('berry')]"
   ]
  },
  {
   "cell_type": "markdown",
   "metadata": {},
   "source": [
    "Write the code to get only the string values containing the substring \"apple\".\n",
    "\n"
   ]
  },
  {
   "cell_type": "code",
   "execution_count": 186,
   "metadata": {},
   "outputs": [
    {
     "data": {
      "text/plain": [
       "3           pineapple\n",
       "4          gala apple\n",
       "5    honeycrisp apple\n",
       "dtype: object"
      ]
     },
     "execution_count": 186,
     "metadata": {},
     "output_type": "execute_result"
    }
   ],
   "source": [
    "fruits[fruits.str.contains('apple')]"
   ]
  },
  {
   "cell_type": "markdown",
   "metadata": {},
   "source": [
    "Which string value contains the most vowels?\n",
    "\n"
   ]
  },
  {
   "cell_type": "code",
   "execution_count": 187,
   "metadata": {},
   "outputs": [
    {
     "data": {
      "text/plain": [
       "'kiwi'"
      ]
     },
     "execution_count": 187,
     "metadata": {},
     "output_type": "execute_result"
    }
   ],
   "source": [
    "fruits[fruits.str.count('[aeiou]]').idxmax()]"
   ]
  },
  {
   "cell_type": "markdown",
   "metadata": {},
   "source": [
    "Binning Data\n",
    "\n",
    "I can bin continuous data to convert it to categorical data. We will look at two different ways to accomplish binning below.\n",
    "\n",
    "\n",
    "s = pd.Series(list(range(15)))\n",
    "s\n",
    "\n",
    "0      0\n",
    "1      1\n",
    "2      2\n",
    "3      3\n",
    "4      4\n",
    "5      5\n",
    "6      6\n",
    "7      7\n",
    "8      8\n",
    "9      9\n",
    "10    10\n",
    "11    11\n",
    "12    12\n",
    "13    13\n",
    "14    14\n",
    "dtype: int64\n",
    "pd.cut(s, bins=n)\n",
    "\n",
    "We can either specify the number of bins to create, and pandas will create bins of equal size, or we can specify the bin edges ourselves by passing a list of bin edges or cutoffs.\n",
    "\n",
    "\n",
    "# Bin values into 3 equal-sized bins.\n",
    "\n",
    "pd.cut(s, 3)\n",
    "\n",
    "0     (-0.014, 4.667]\n",
    "1     (-0.014, 4.667]\n",
    "2     (-0.014, 4.667]\n",
    "3     (-0.014, 4.667]\n",
    "4     (-0.014, 4.667]\n",
    "5      (4.667, 9.333]\n",
    "6      (4.667, 9.333]\n",
    "7      (4.667, 9.333]\n",
    "8      (4.667, 9.333]\n",
    "9      (4.667, 9.333]\n",
    "10      (9.333, 14.0]\n",
    "11      (9.333, 14.0]\n",
    "12      (9.333, 14.0]\n",
    "13      (9.333, 14.0]\n",
    "14      (9.333, 14.0]\n",
    "dtype: category\n",
    "Categories (3, interval[float64, right]): [(-0.014, 4.667] < (4.667, 9.333] < (9.333, 14.0]]\n",
    "\n",
    "# Bin values into bins with the cutoffs I specify. The bins are no longer of equal size.\n",
    "\n",
    "pd.cut(s, [-1, 3, 12, 16])\n",
    "\n",
    "0      (-1, 3]\n",
    "1      (-1, 3]\n",
    "2      (-1, 3]\n",
    "3      (-1, 3]\n",
    "4      (3, 12]\n",
    "5      (3, 12]\n",
    "6      (3, 12]\n",
    "7      (3, 12]\n",
    "8      (3, 12]\n",
    "9      (3, 12]\n",
    "10     (3, 12]\n",
    "11     (3, 12]\n",
    "12     (3, 12]\n",
    "13    (12, 16]\n",
    "14    (12, 16]\n",
    "dtype: category\n",
    "Categories (3, interval[int64, right]): [(-1, 3] < (3, 12] < (12, 16]]\n",
    "\n",
    "# How many values fall into each bin? I can chain on the value_counts method.\n",
    "\n",
    "pd.cut(s, 3).value_counts()\n",
    "\n",
    "(-0.014, 4.667]    5\n",
    "(4.667, 9.333]     5\n",
    "(9.333, 14.0]      5\n",
    "dtype: int64\n",
    "value_counts(bins=n)\n",
    "\n",
    "The value_counts method can also be valuable here. It has a parameter named bins, which will allow us to quickly bin and group our data at the same time if that is our desired end goal.\n",
    "\n",
    "\n",
    "s.value_counts(bins=3)\n",
    "\n",
    "(-0.015, 4.667]    5\n",
    "(4.667, 9.333]     5\n",
    "(9.333, 14.0]      5\n",
    "dtype: int64\n",
    "Plotting Data\n",
    "\n",
    "The .plot() method allows us to quickly visualize the data in a Series. It's built on top of Matplotlib!\n",
    "\n",
    "By default, Matplotlib will choose the best type of plot for us.\n",
    "\n",
    "We can also customize our plot using the paramters of the .plot method or by using Matplot lib if we like. We will look at examples of both ways below.\n",
    "\n",
    "Check the docs here for more on the .plot() method.\n",
    "\n",
    "\n",
    "# Matplotlib is choosing the plot for us here, and it might tell the story we want.\n",
    "\n",
    "nums_series = pd.Series([1, 5, 5, 5, 10, 20, 100, 40])\n",
    "nums_series.plot()\n",
    "\n",
    "plt.show()\n",
    "png\n",
    "\n",
    "We can also use specific types of visualizations like this:\n",
    "\n",
    "\n",
    "# So, here we specify the type of plot we would like Matplotlib to use.\n",
    "nums_series.plot.hist()\n",
    "\n",
    "plt.show()\n",
    "png\n",
    "\n",
    "The .value_counts method returns a Series, so we can call .plot method on the resulting Series; this is called method chaining.\n",
    "\n",
    "\n",
    "# Construct the Series.\n",
    "lets_series = pd.Series(['a', 'b', 'a', 'c', 'b', 'a', 'd', 'a'])\n",
    "\n",
    "# Plot the value_counts of our Series. Rotate our x-tick values.\n",
    "lets_series.value_counts().plot.bar(rot=0)\n",
    "\n",
    "plt.show()\n",
    "png\n",
    "\n",
    "Any additional keyword arguments passed to pandas .plot method will be passed along to the corresponding Matplotlib functions. In addition, we can use Matplotlib the same way we have before to set titles, tweak axis labels, etc. Let's look at both ways.\n",
    "\n",
    "\n",
    "# Use the parameters of the .plot method to customize my chart.\n",
    "\n",
    "pd.Series(['a', 'b', 'a', 'c', 'b', 'a', 'd', 'a']).value_counts().plot.bar(title='Example Pandas Visualization', \n",
    "                                                                            rot=0, \n",
    "                                                                            color='firebrick', \n",
    "                                                                            ec='black',\n",
    "                                                                            width=.9).set(xlabel='Letter',\n",
    "                                                                                         ylabel='Frequency')\n",
    "\n",
    "plt.show()\n",
    "png\n",
    "\n",
    "\n",
    "# Use Matplotlib to customize.\n",
    "\n",
    "pd.Series(['a', 'b', 'a', 'c', 'b', 'a', 'd', 'a']).value_counts().plot.bar(color='firebrick', width=.9)\n",
    "plt.title('Example Pandas Visualization')\n",
    "plt.xticks(rotation=0)\n",
    "plt.xlabel('Letter')\n",
    "plt.ylabel('Frequency')\n",
    "\n",
    "plt.show()\n",
    "png\n",
    "\n",
    "Further Reading\n",
    "\n",
    "pandas intro tutorials on\n",
    "pandas user guide\n",
    "pandas documentation: Series\n",
    "\n"
   ]
  },
  {
   "cell_type": "markdown",
   "metadata": {},
   "source": [
    "## Exercises Part III\n",
    "\n"
   ]
  },
  {
   "cell_type": "markdown",
   "metadata": {},
   "source": [
    "Use pandas to create a Series named letters from the following string. The easiest way to make this string into a Pandas series is to use list to convert each individual letter into a single string on a basic Python list.\n",
    "\n",
    "\n",
    "    'hnvidduckkqxwymbimkccexbkmqygkxoyndmcxnwqarhyffsjpsrabtjzsypmzadfavyrnndndvswreauxovncxtwzpwejilzjrmmbbgbyxvjtewqthafnbkqplarokkyydtubbmnexoypulzwfhqvckdpqtpoppzqrmcvhhpwgjwupgzhiofohawytlsiyecuproguy'\n"
   ]
  },
  {
   "cell_type": "code",
   "execution_count": 188,
   "metadata": {},
   "outputs": [
    {
     "name": "stdout",
     "output_type": "stream",
     "text": [
      "0      h\n",
      "1      n\n",
      "2      v\n",
      "3      i\n",
      "4      d\n",
      "      ..\n",
      "195    r\n",
      "196    o\n",
      "197    g\n",
      "198    u\n",
      "199    y\n",
      "Length: 200, dtype: object\n",
      "['a', 'b', 'c', 'd', 'e', 'f', 'g', 'h', 'i', 'j', 'k', 'l', 'm', 'n', 'o', 'p', 'q', 'r', 's', 't', 'u', 'v', 'w', 'x', 'y', 'z']\n"
     ]
    }
   ],
   "source": [
    "letters='hnvidduckkqxwymbimkccexbkmqygkxoyndmcxnwqarhyffsjpsrabtjzsypmzadfavyrnndndvswreauxovncxtwzpwejilzjrmmbbgbyxvjtewqthafnbkqplarokkyydtubbmnexoypulzwfhqvckdpqtpoppzqrmcvhhpwgjwupgzhiofohawytlsiyecuproguy'\n",
    "letters=list(letters)\n",
    "letters=pd.Series(letters)\n",
    "print(letters)\n",
    "alphabet = [chr(value) for value in range(ord('a'), ord('a') + 26)]\n",
    "print(alphabet)\n",
    "\n",
    "alpha_array_forbins=[i for i in range(1,27)]\n",
    "# print(alpha_array_forbins,len(alpha_array_forbins))\n",
    "\n"
   ]
  },
  {
   "cell_type": "code",
   "execution_count": 189,
   "metadata": {},
   "outputs": [
    {
     "data": {
      "text/plain": [
       "y    13\n",
       "p    12\n",
       "w    10\n",
       "b     9\n",
       "n     9\n",
       "k     9\n",
       "m     9\n",
       "r     8\n",
       "a     8\n",
       "o     8\n",
       "h     8\n",
       "x     8\n",
       "q     8\n",
       "c     8\n",
       "d     8\n",
       "u     7\n",
       "v     7\n",
       "t     7\n",
       "z     7\n",
       "e     6\n",
       "f     6\n",
       "j     6\n",
       "g     5\n",
       "i     5\n",
       "s     5\n",
       "l     4\n",
       "dtype: int64"
      ]
     },
     "execution_count": 189,
     "metadata": {},
     "output_type": "execute_result"
    }
   ],
   "source": [
    "\n",
    "letters.value_counts()"
   ]
  },
  {
   "cell_type": "markdown",
   "metadata": {},
   "source": [
    "Which letter occurs the most frequently in the letters Series?\n",
    "\n"
   ]
  },
  {
   "cell_type": "code",
   "execution_count": 190,
   "metadata": {},
   "outputs": [
    {
     "data": {
      "text/plain": [
       "y    13\n",
       "dtype: int64"
      ]
     },
     "execution_count": 190,
     "metadata": {},
     "output_type": "execute_result"
    }
   ],
   "source": [
    "maxlettercount=letters.value_counts()\n",
    "maxval=max(maxlettercount.values)\n",
    "\n",
    "maxlettercount[maxlettercount.values==maxval]"
   ]
  },
  {
   "cell_type": "markdown",
   "metadata": {},
   "source": [
    "Which letter occurs the Least frequently?\n",
    "\n"
   ]
  },
  {
   "cell_type": "code",
   "execution_count": 191,
   "metadata": {},
   "outputs": [
    {
     "data": {
      "text/plain": [
       "l    4\n",
       "dtype: int64"
      ]
     },
     "execution_count": 191,
     "metadata": {},
     "output_type": "execute_result"
    }
   ],
   "source": [
    "minlettercount=letters.value_counts(sort=True,ascending=True)\n",
    "minval=min(minlettercount.values)\n",
    "\n",
    "\n",
    "minlettercount[minlettercount.values==minval]"
   ]
  },
  {
   "cell_type": "markdown",
   "metadata": {},
   "source": [
    "How many vowels are in the Series?\n",
    "\n"
   ]
  },
  {
   "cell_type": "code",
   "execution_count": 192,
   "metadata": {},
   "outputs": [
    {
     "data": {
      "text/plain": [
       "34"
      ]
     },
     "execution_count": 192,
     "metadata": {},
     "output_type": "execute_result"
    }
   ],
   "source": [
    "vowelsinletters=letters.apply(countn)\n",
    "sumofvowels=vowelsinletters.values.sum()\n",
    "sumofvowels"
   ]
  },
  {
   "cell_type": "markdown",
   "metadata": {},
   "source": [
    "How many consonants are in the Series?\n",
    "\n"
   ]
  },
  {
   "cell_type": "code",
   "execution_count": 193,
   "metadata": {},
   "outputs": [
    {
     "name": "stdout",
     "output_type": "stream",
     "text": [
      "166\n"
     ]
    }
   ],
   "source": [
    "sum_of_letters=letters.count()\n",
    "sum_of_consonants=sum_of_letters-sumofvowels\n",
    "print(sum_of_consonants)"
   ]
  },
  {
   "cell_type": "markdown",
   "metadata": {},
   "source": [
    "Create a Series that has all of the same letters but uppercased.\n",
    "\n"
   ]
  },
  {
   "cell_type": "code",
   "execution_count": 194,
   "metadata": {},
   "outputs": [
    {
     "name": "stdout",
     "output_type": "stream",
     "text": [
      "0      H\n",
      "1      N\n",
      "2      V\n",
      "3      I\n",
      "4      D\n",
      "      ..\n",
      "195    R\n",
      "196    O\n",
      "197    G\n",
      "198    U\n",
      "199    Y\n",
      "Length: 200, dtype: object\n"
     ]
    }
   ],
   "source": [
    "uppercase_letters=letters.str.upper()\n",
    "print(uppercase_letters)"
   ]
  },
  {
   "cell_type": "markdown",
   "metadata": {},
   "source": [
    "Create a bar plot of the frequencies of the 6 most commonly occuring letters.\n",
    "\n"
   ]
  },
  {
   "cell_type": "code",
   "execution_count": 195,
   "metadata": {},
   "outputs": [
    {
     "data": {
      "text/plain": [
       "<AxesSubplot:>"
      ]
     },
     "execution_count": 195,
     "metadata": {},
     "output_type": "execute_result"
    },
    {
     "data": {
      "image/png": "[encoded data removed]",
      "text/plain": [
       "<Figure size 432x288 with 1 Axes>"
      ]
     },
     "metadata": {
      "needs_background": "light"
     },
     "output_type": "display_data"
    }
   ],
   "source": [
    "top_six=letters.value_counts().nlargest(6)\n",
    "top_six.plot.bar()"
   ]
  },
  {
   "cell_type": "markdown",
   "metadata": {},
   "source": [
    "Use pandas to create a Series named numbers from the following list:\n",
    "\n",
    "\n",
    "    ['$796,459.41', '$278.60', '$482,571.67', '$4,503,915.98', '$2,121,418.3', '$1,260,813.3', '$87,231.01', '$1,509,175.45', '$4,138,548.00', '$2,848,913.80', '$594,715.39', '$4,789,988.17', '$4,513,644.5', '$3,191,059.97', '$1,758,712.24', '$4,338,283.54', '$4,738,303.38', '$2,791,759.67', '$769,681.94', '$452,650.23']\n"
   ]
  },
  {
   "cell_type": "code",
   "execution_count": 196,
   "metadata": {},
   "outputs": [
    {
     "data": {
      "text/plain": [
       "count              20\n",
       "unique             20\n",
       "top       $796,459.41\n",
       "freq                1\n",
       "dtype: object"
      ]
     },
     "execution_count": 196,
     "metadata": {},
     "output_type": "execute_result"
    }
   ],
   "source": [
    "numbers=['$796,459.41', '$278.60', '$482,571.67', '$4,503,915.98', '$2,121,418.3', '$1,260,813.3', '$87,231.01', '$1,509,175.45', '$4,138,548.00', '$2,848,913.80', '$594,715.39', '$4,789,988.17', '$4,513,644.5', '$3,191,059.97', '$1,758,712.24', '$4,338,283.54', '$4,738,303.38', '$2,791,759.67', '$769,681.94', '$452,650.23']\n",
    "\n",
    "numbers=pd.Series(numbers)\n",
    "numbers.describe()\n"
   ]
  },
  {
   "cell_type": "markdown",
   "metadata": {},
   "source": [
    "What is the data type of the numbers Series?\n",
    "\n"
   ]
  },
  {
   "cell_type": "code",
   "execution_count": 197,
   "metadata": {},
   "outputs": [
    {
     "name": "stdout",
     "output_type": "stream",
     "text": [
      "object\n"
     ]
    }
   ],
   "source": [
    "print(numbers.values.dtype)"
   ]
  },
  {
   "cell_type": "markdown",
   "metadata": {},
   "source": [
    "How many elements are in the number Series?\n",
    "\n"
   ]
  },
  {
   "cell_type": "code",
   "execution_count": 198,
   "metadata": {},
   "outputs": [
    {
     "name": "stdout",
     "output_type": "stream",
     "text": [
      "20\n"
     ]
    }
   ],
   "source": [
    "print(numbers.count())"
   ]
  },
  {
   "cell_type": "markdown",
   "metadata": {},
   "source": [
    "Perform the necessary manipulations by accessing Series attributes and methods to convert the numbers Series to a numeric data type.\n",
    "\n"
   ]
  },
  {
   "cell_type": "code",
   "execution_count": 199,
   "metadata": {},
   "outputs": [
    {
     "name": "stdout",
     "output_type": "stream",
     "text": [
      "<class 'pandas.core.series.Series'>\n",
      "count             20\n",
      "unique            20\n",
      "top       796,459.41\n",
      "freq               1\n",
      "dtype: object\n",
      "<class 'pandas.core.series.Series'>\n",
      "count            20\n",
      "unique           20\n",
      "top       796459.41\n",
      "freq              1\n",
      "dtype: object\n"
     ]
    },
    {
     "data": {
      "text/plain": [
       "count    2.000000e+01\n",
       "mean     2.284406e+06\n",
       "std      1.735261e+06\n",
       "min      2.786000e+02\n",
       "25%      7.259403e+05\n",
       "50%      1.940065e+06\n",
       "75%      4.188482e+06\n",
       "max      4.789988e+06\n",
       "dtype: float64"
      ]
     },
     "execution_count": 199,
     "metadata": {},
     "output_type": "execute_result"
    }
   ],
   "source": [
    "numbers=numbers.str.strip('$')\n",
    "print(f'{type(numbers)}\\n{numbers.describe()}')\n",
    "numbers=numbers.str.replace(',','')\n",
    "print(f'{type(numbers)}\\n{numbers.describe()}')\n",
    "numbers=pd.to_numeric(numbers)\n",
    "numbers=pd.Series(numbers)\n",
    "numbers.describe()\n"
   ]
  },
  {
   "cell_type": "markdown",
   "metadata": {},
   "source": [
    "Run the code to discover the maximum value from the Series.\n",
    "\n"
   ]
  },
  {
   "cell_type": "code",
   "execution_count": 200,
   "metadata": {},
   "outputs": [
    {
     "name": "stdout",
     "output_type": "stream",
     "text": [
      "4789988.17\n"
     ]
    }
   ],
   "source": [
    "numsmax=numbers.max()\n",
    "print(numsmax)"
   ]
  },
  {
   "cell_type": "markdown",
   "metadata": {},
   "source": [
    "Run the code to discover the minimum value from the Series.\n",
    "\n"
   ]
  },
  {
   "cell_type": "code",
   "execution_count": 201,
   "metadata": {},
   "outputs": [
    {
     "name": "stdout",
     "output_type": "stream",
     "text": [
      "278.6\n"
     ]
    }
   ],
   "source": [
    "numsmin=numbers.min()\n",
    "print(numsmin)"
   ]
  },
  {
   "cell_type": "markdown",
   "metadata": {},
   "source": [
    "What is the range of the values in the Series?\n",
    "\n"
   ]
  },
  {
   "cell_type": "code",
   "execution_count": 202,
   "metadata": {},
   "outputs": [
    {
     "name": "stdout",
     "output_type": "stream",
     "text": [
      "4789709.57\n"
     ]
    }
   ],
   "source": [
    "range_nums=numsmax-numsmin\n",
    "print(range_nums)"
   ]
  },
  {
   "cell_type": "markdown",
   "metadata": {},
   "source": [
    "Bin the data into 4 equally sized intervals or bins and output how many values fall into each bin.\n",
    "\n"
   ]
  },
  {
   "cell_type": "code",
   "execution_count": 203,
   "metadata": {},
   "outputs": [
    {
     "name": "stdout",
     "output_type": "stream",
     "text": [
      "(-4511.111, 1197705.993]      7\n",
      "(3592560.778, 4789988.17]     6\n",
      "(1197705.993, 2395133.385]    4\n",
      "(2395133.385, 3592560.778]    3\n",
      "dtype: int64\n"
     ]
    }
   ],
   "source": [
    "nums_4bin=numbers.value_counts(bins=4)\n",
    "print(nums_4bin)"
   ]
  },
  {
   "cell_type": "markdown",
   "metadata": {},
   "source": [
    "Plot the binned data in a meaningful way. Be sure to include a title and axis labels.\n",
    "\n"
   ]
  },
  {
   "cell_type": "code",
   "execution_count": 215,
   "metadata": {},
   "outputs": [
    {
     "data": {
      "image/png": "[encoded data removed]",
      "text/plain": [
       "<Figure size 432x288 with 1 Axes>"
      ]
     },
     "metadata": {
      "needs_background": "light"
     },
     "output_type": "display_data"
    }
   ],
   "source": [
    "plot1=nums_4bin.sort_index().plot.barh(title='Bin there done that',rot=0,color='firebrick',ec='black',width=.9).set(xlabel='Frequency',ylabel='Ranges')\n",
    "\n",
    "plt.show()"
   ]
  },
  {
   "cell_type": "markdown",
   "metadata": {},
   "source": [
    "Use pandas to create a Series named exam_scores from the following list:\n",
    "\n",
    "\n",
    "    [60, 86, 75, 62, 93, 71, 60, 83, 95, 78, 65, 72, 69, 81, 96, 80, 85, 92, 82, 78]\n"
   ]
  },
  {
   "cell_type": "code",
   "execution_count": 205,
   "metadata": {},
   "outputs": [
    {
     "data": {
      "text/plain": [
       "count    20.000000\n",
       "mean     78.150000\n",
       "std      11.352139\n",
       "min      60.000000\n",
       "25%      70.500000\n",
       "50%      79.000000\n",
       "75%      85.250000\n",
       "max      96.000000\n",
       "dtype: float64"
      ]
     },
     "execution_count": 205,
     "metadata": {},
     "output_type": "execute_result"
    }
   ],
   "source": [
    "exam_scores=   [60, 86, 75, 62, 93, 71, 60, 83, 95, 78, 65, 72, 69, 81, 96, 80, 85, 92, 82, 78]\n",
    "exam_scores=pd.Series(exam_scores)\n",
    "exam_scores.describe(include='all')"
   ]
  },
  {
   "cell_type": "markdown",
   "metadata": {},
   "source": [
    "How many elements are in the exam_scores Series?\n",
    "\n"
   ]
  },
  {
   "cell_type": "code",
   "execution_count": 206,
   "metadata": {},
   "outputs": [
    {
     "data": {
      "text/plain": [
       "20"
      ]
     },
     "execution_count": 206,
     "metadata": {},
     "output_type": "execute_result"
    }
   ],
   "source": [
    "exam_scores.count()"
   ]
  },
  {
   "cell_type": "markdown",
   "metadata": {},
   "source": [
    "Run the code to discover the minimum, the maximum, the mean, and the median scores for the exam_scores Series.\n",
    "\n"
   ]
  },
  {
   "cell_type": "code",
   "execution_count": 207,
   "metadata": {},
   "outputs": [
    {
     "data": {
      "text/plain": [
       "60"
      ]
     },
     "execution_count": 207,
     "metadata": {},
     "output_type": "execute_result"
    }
   ],
   "source": [
    "exam_scores.min()\n"
   ]
  },
  {
   "cell_type": "code",
   "execution_count": 208,
   "metadata": {},
   "outputs": [
    {
     "data": {
      "text/plain": [
       "96"
      ]
     },
     "execution_count": 208,
     "metadata": {},
     "output_type": "execute_result"
    }
   ],
   "source": [
    "exam_scores.max()"
   ]
  },
  {
   "cell_type": "code",
   "execution_count": 209,
   "metadata": {},
   "outputs": [
    {
     "data": {
      "text/plain": [
       "78.15"
      ]
     },
     "execution_count": 209,
     "metadata": {},
     "output_type": "execute_result"
    }
   ],
   "source": [
    "exam_scores.mean()\n"
   ]
  },
  {
   "cell_type": "code",
   "execution_count": 210,
   "metadata": {},
   "outputs": [
    {
     "data": {
      "text/plain": [
       "79.0"
      ]
     },
     "execution_count": 210,
     "metadata": {},
     "output_type": "execute_result"
    }
   ],
   "source": [
    "exam_scores.median()"
   ]
  },
  {
   "cell_type": "markdown",
   "metadata": {},
   "source": [
    "Plot the Series in a meaningful way and make sure your chart has a title and axis labels.\n",
    "\n"
   ]
  },
  {
   "cell_type": "code",
   "execution_count": 219,
   "metadata": {},
   "outputs": [
    {
     "data": {
      "text/plain": [
       "[Text(0.5, 0, 'Exam'), Text(0, 0.5, 'Scores')]"
      ]
     },
     "execution_count": 219,
     "metadata": {},
     "output_type": "execute_result"
    },
    {
     "data": {
      "image/png": "[encoded data removed]",
      "text/plain": [
       "<Figure size 432x288 with 1 Axes>"
      ]
     },
     "metadata": {
      "needs_background": "light"
     },
     "output_type": "display_data"
    }
   ],
   "source": [
    "exam_scores.sort_values().plot.hist(title='Grades').set(xlabel='Exam',ylabel='Scores')"
   ]
  },
  {
   "cell_type": "markdown",
   "metadata": {},
   "source": [
    "Write the code necessary to implement a curve for your exam_grades Series and save this as curved_grades. Add the necessary points to the highest grade to make it 100, and add the same number of points to every other score in the Series as well.\n",
    "\n"
   ]
  },
  {
   "cell_type": "code",
   "execution_count": 212,
   "metadata": {},
   "outputs": [
    {
     "name": "stdout",
     "output_type": "stream",
     "text": [
      "0      64\n",
      "1      90\n",
      "2      79\n",
      "3      66\n",
      "4      97\n",
      "5      75\n",
      "6      64\n",
      "7      87\n",
      "8      99\n",
      "9      82\n",
      "10     69\n",
      "11     76\n",
      "12     73\n",
      "13     85\n",
      "14    100\n",
      "15     84\n",
      "16     89\n",
      "17     96\n",
      "18     86\n",
      "19     82\n",
      "dtype: int64\n"
     ]
    }
   ],
   "source": [
    "curve=100-exam_scores.max()\n",
    "curved_grades=exam_scores.add(curve)\n",
    "\n",
    "print(curved_grades)"
   ]
  },
  {
   "cell_type": "markdown",
   "metadata": {},
   "source": [
    "Use a method to convert each of the numeric values in the curved_grades Series into a categorical value of letter grades. For example, 86 should be a 'B' and 95 should be an 'A'. Save this as a Series named letter_grades.\n",
    "\n"
   ]
  },
  {
   "cell_type": "code",
   "execution_count": 213,
   "metadata": {},
   "outputs": [
    {
     "name": "stdout",
     "output_type": "stream",
     "text": [
      "['F', 'D', 'C', 'B', 'A']\n",
      "0     F\n",
      "1     B\n",
      "2     C\n",
      "3     F\n",
      "4     A\n",
      "5     D\n",
      "6     F\n",
      "7     B\n",
      "8     A\n",
      "9     B\n",
      "10    F\n",
      "11    C\n",
      "12    D\n",
      "13    B\n",
      "14    A\n",
      "15    B\n",
      "16    B\n",
      "17    A\n",
      "18    B\n",
      "19    B\n",
      "dtype: category\n",
      "Categories (5, object): ['F' < 'D' < 'C' < 'B' < 'A']\n"
     ]
    }
   ],
   "source": [
    "bin_range_ends=[0,70,75,80,90,101]\n",
    "labels_bins=['A','B','C','D','F']\n",
    "labels_bins.sort(reverse=True)\n",
    "print(labels_bins)\n",
    "letter_grades=pd.cut(curved_grades,bins=bin_range_ends,labels=labels_bins)\n",
    "print(letter_grades)"
   ]
  },
  {
   "cell_type": "markdown",
   "metadata": {},
   "source": [
    "Plot your new categorical letter_grades Series in a meaninful way and include a title and axis labels.\n"
   ]
  },
  {
   "cell_type": "code",
   "execution_count": 214,
   "metadata": {},
   "outputs": [
    {
     "data": {
      "image/png": "[encoded data removed]",
      "text/plain": [
       "<Figure size 432x288 with 1 Axes>"
      ]
     },
     "metadata": {
      "needs_background": "light"
     },
     "output_type": "display_data"
    }
   ],
   "source": [
    "letter_grades.value_counts().sort_index().plot.barh()\n",
    "plt.title('Letter Grades')\n",
    "plt.xlabel('Number of Students')\n",
    "plt.ylabel('Letter Grade')\n",
    "\n",
    "plt.show()"
   ]
  },
  {
   "cell_type": "markdown",
   "metadata": {},
   "source": [
    "\n",
    "## More Practice\n",
    "\n",
    "Revisit the exercises from https://gist.github.com/ryanorsinger/f7d7c1dd6a328730c04f3dc5c5c69f3a.\n",
    "\n",
    "After you complete each set of Series exercises, use any extra time you have to pursue the challenge below. You can work on these in the same notebook or file as the Series exercises or create a new practice notebook you can work in a little every day to keep your python and pandas skills sharp by trying to solve problems in multiple ways. These are not a part of the Series exercises grade, so don't worry if it takes you days or weeks to meet the challenge.\n",
    "\n",
    "Challenge yourself to be able to...\n",
    "\n",
    "solve each using vanilla python.\n",
    "\n",
    "solve each using list comprehensions.\n",
    "\n",
    "solve each by using a pandas Series for the data structure instead of lists and using vectorized operations instead of loops and list comprehensions.\n",
    "\n"
   ]
  }
 ],
 "metadata": {
  "interpreter": {
   "hash": "baeed1872d3d647b7b05b5c9267c91e927a047aa38b5942b2070263e11f98290"
  },
  "kernelspec": {
   "display_name": "Python 3.9.12 ('base')",
   "language": "python",
   "name": "python3"
  },
  "language_info": {
   "codemirror_mode": {
    "name": "ipython",
    "version": 3
   },
   "file_extension": ".py",
   "mimetype": "text/x-python",
   "name": "python",
   "nbconvert_exporter": "python",
   "pygments_lexer": "ipython3",
   "version": "3.9.12"
  },
  "orig_nbformat": 4
 },
 "nbformat": 4,
 "nbformat_minor": 2
}
